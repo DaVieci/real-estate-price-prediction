{
  "nbformat": 4,
  "nbformat_minor": 0,
  "metadata": {
    "colab": {
      "provenance": [],
      "toc_visible": true,
      "authorship_tag": "ABX9TyNcJnZJ0jBUXrqQfACeVqiN",
      "include_colab_link": true
    },
    "kernelspec": {
      "name": "python3",
      "display_name": "Python 3"
    },
    "language_info": {
      "name": "python"
    }
  },
  "cells": [
    {
      "cell_type": "markdown",
      "metadata": {
        "id": "view-in-github",
        "colab_type": "text"
      },
      "source": [
        "<a href=\"https://colab.research.google.com/github/DaVieci/real-estate-price-prediction/blob/main/Real_Estate_Price_Prediction.ipynb\" target=\"_parent\"><img src=\"https://colab.research.google.com/assets/colab-badge.svg\" alt=\"Open In Colab\"/></a>"
      ]
    },
    {
      "cell_type": "markdown",
      "source": [
        "# Real Estate Price Prediction with ML"
      ],
      "metadata": {
        "id": "ntu9ghUy-1CU"
      }
    },
    {
      "cell_type": "code",
      "execution_count": null,
      "metadata": {
        "id": "daPFf6mx-zJs"
      },
      "outputs": [],
      "source": [
        "import pandas as pd\n",
        "import numpy as np"
      ]
    },
    {
      "cell_type": "code",
      "source": [
        "import seaborn as sns\n",
        "sns.set(rc={\"figure.figsize\":(15, 5)})"
      ],
      "metadata": {
        "id": "DojKUFi2FZJf"
      },
      "execution_count": null,
      "outputs": []
    },
    {
      "cell_type": "code",
      "source": [
        "from sklearn.linear_model import LinearRegression\n",
        "from sklearn.model_selection import train_test_split\n",
        "from sklearn.metrics import mean_absolute_error\n",
        "from sklearn.metrics import mean_absolute_percentage_error"
      ],
      "metadata": {
        "id": "F8sC1x5_8h8n"
      },
      "execution_count": null,
      "outputs": []
    },
    {
      "cell_type": "markdown",
      "source": [
        "## Read the Data"
      ],
      "metadata": {
        "id": "0k5chkvX-9vw"
      }
    },
    {
      "cell_type": "code",
      "source": [
        "path = \"./Real_Estate_Prices.csv\""
      ],
      "metadata": {
        "id": "XWpCqDZm-80t"
      },
      "execution_count": null,
      "outputs": []
    },
    {
      "cell_type": "code",
      "source": [
        "df = pd.read_csv(path)"
      ],
      "metadata": {
        "id": "TUg5QzB8_HI0"
      },
      "execution_count": null,
      "outputs": []
    },
    {
      "cell_type": "markdown",
      "source": [
        "## Optional: Explore the Data"
      ],
      "metadata": {
        "id": "adjJa6e__UsV"
      }
    },
    {
      "cell_type": "code",
      "source": [
        "df"
      ],
      "metadata": {
        "id": "hqSpKCtZ_VSY",
        "colab": {
          "base_uri": "https://localhost:8080/",
          "height": 487
        },
        "outputId": "39613d5d-8733-42a8-95ba-c6a8016504b2"
      },
      "execution_count": null,
      "outputs": [
        {
          "output_type": "execute_result",
          "data": {
            "text/plain": [
              "      AnzahlZimmer  Ausbaustufe  Baeder  BaederUG  Baujahr Bebauungsdichte  \\\n",
              "0                3          NaN       1         1     1989         Niedrig   \n",
              "1                3          1.0       2         1     2015         Niedrig   \n",
              "2                3          1.5       1         0     1941          Mittel   \n",
              "3                1          NaN       1         1     1983          Mittel   \n",
              "4                2          2.0       2         1     2016             NaN   \n",
              "...            ...          ...     ...       ...      ...             ...   \n",
              "2272             3          1.0       2         1     2017             NaN   \n",
              "2273             1          1.0       0         1     1933         Niedrig   \n",
              "2274             4          2.0       2         0     1987         Niedrig   \n",
              "2275             2          1.0       1         0     1963         Niedrig   \n",
              "2276             4          2.0       2         0     2006         Niedrig   \n",
              "\n",
              "         Dachtyp  EG_qm  Fassadenqual Fassadenzustand  ...  Neuverkauf  \\\n",
              "0     Satteldach     95  Durchschnitt    Durchschnitt  ...        nein   \n",
              "1     Satteldach    157           Gut    Durchschnitt  ...        nein   \n",
              "2     Satteldach    103  Durchschnitt    Durchschnitt  ...        nein   \n",
              "3     Satteldach     58  Durchschnitt    Durchschnitt  ...        nein   \n",
              "4     Satteldach     55           Gut    Durchschnitt  ...        nein   \n",
              "...          ...    ...           ...             ...  ...         ...   \n",
              "2272  Satteldach    154           Gut    Durchschnitt  ...        nein   \n",
              "2273  Satteldach     84      Schlecht        Schlecht  ...        nein   \n",
              "2274   Flachdach    102  Durchschnitt    Durchschnitt  ...        nein   \n",
              "2275  Satteldach     85  Durchschnitt    Durchschnitt  ...        nein   \n",
              "2276  Satteldach    123           Gut    Durchschnitt  ...        nein   \n",
              "\n",
              "      Seelage  ToilettenEG  ToilettenUG          Typ  Umgebaut Verkaufsjahr  \\\n",
              "0        nein            0            0  Freistehend      1989         2017   \n",
              "1        nein            0            0  Freistehend      2016         2015   \n",
              "2        nein            0            0  Freistehend      1961         2015   \n",
              "3        nein            0            0   Reihenhaus      1983         2021   \n",
              "4          ja            1            0   Reihenhaus      2016         2017   \n",
              "...       ...          ...          ...          ...       ...          ...   \n",
              "2272       ja            0            0  Freistehend      2018         2020   \n",
              "2273     nein            1            0  Freistehend      1961         2019   \n",
              "2274     nein            1            0  Freistehend      1987         2018   \n",
              "2275     nein            0            0  Freistehend      1963         2015   \n",
              "2276     nein            1            0  Freistehend      2006         2016   \n",
              "\n",
              "     Verkaufsmonat Wohnflaeche_qm Z_Verkaufspreis  \n",
              "0               10             95          154772  \n",
              "1                8            157          298846  \n",
              "2                6            103          135697  \n",
              "3                5             58           92994  \n",
              "4                5            111          173723  \n",
              "...            ...            ...             ...  \n",
              "2272             3            154          344642  \n",
              "2273             3             84           69466  \n",
              "2274             9            182          224472  \n",
              "2275             6             85          109512  \n",
              "2276            11            235          293589  \n",
              "\n",
              "[2277 rows x 28 columns]"
            ],
            "text/html": [
              "\n",
              "  <div id=\"df-beb75ada-c5cb-4337-9297-629a3cb88cee\">\n",
              "    <div class=\"colab-df-container\">\n",
              "      <div>\n",
              "<style scoped>\n",
              "    .dataframe tbody tr th:only-of-type {\n",
              "        vertical-align: middle;\n",
              "    }\n",
              "\n",
              "    .dataframe tbody tr th {\n",
              "        vertical-align: top;\n",
              "    }\n",
              "\n",
              "    .dataframe thead th {\n",
              "        text-align: right;\n",
              "    }\n",
              "</style>\n",
              "<table border=\"1\" class=\"dataframe\">\n",
              "  <thead>\n",
              "    <tr style=\"text-align: right;\">\n",
              "      <th></th>\n",
              "      <th>AnzahlZimmer</th>\n",
              "      <th>Ausbaustufe</th>\n",
              "      <th>Baeder</th>\n",
              "      <th>BaederUG</th>\n",
              "      <th>Baujahr</th>\n",
              "      <th>Bebauungsdichte</th>\n",
              "      <th>Dachtyp</th>\n",
              "      <th>EG_qm</th>\n",
              "      <th>Fassadenqual</th>\n",
              "      <th>Fassadenzustand</th>\n",
              "      <th>...</th>\n",
              "      <th>Neuverkauf</th>\n",
              "      <th>Seelage</th>\n",
              "      <th>ToilettenEG</th>\n",
              "      <th>ToilettenUG</th>\n",
              "      <th>Typ</th>\n",
              "      <th>Umgebaut</th>\n",
              "      <th>Verkaufsjahr</th>\n",
              "      <th>Verkaufsmonat</th>\n",
              "      <th>Wohnflaeche_qm</th>\n",
              "      <th>Z_Verkaufspreis</th>\n",
              "    </tr>\n",
              "  </thead>\n",
              "  <tbody>\n",
              "    <tr>\n",
              "      <th>0</th>\n",
              "      <td>3</td>\n",
              "      <td>NaN</td>\n",
              "      <td>1</td>\n",
              "      <td>1</td>\n",
              "      <td>1989</td>\n",
              "      <td>Niedrig</td>\n",
              "      <td>Satteldach</td>\n",
              "      <td>95</td>\n",
              "      <td>Durchschnitt</td>\n",
              "      <td>Durchschnitt</td>\n",
              "      <td>...</td>\n",
              "      <td>nein</td>\n",
              "      <td>nein</td>\n",
              "      <td>0</td>\n",
              "      <td>0</td>\n",
              "      <td>Freistehend</td>\n",
              "      <td>1989</td>\n",
              "      <td>2017</td>\n",
              "      <td>10</td>\n",
              "      <td>95</td>\n",
              "      <td>154772</td>\n",
              "    </tr>\n",
              "    <tr>\n",
              "      <th>1</th>\n",
              "      <td>3</td>\n",
              "      <td>1.0</td>\n",
              "      <td>2</td>\n",
              "      <td>1</td>\n",
              "      <td>2015</td>\n",
              "      <td>Niedrig</td>\n",
              "      <td>Satteldach</td>\n",
              "      <td>157</td>\n",
              "      <td>Gut</td>\n",
              "      <td>Durchschnitt</td>\n",
              "      <td>...</td>\n",
              "      <td>nein</td>\n",
              "      <td>nein</td>\n",
              "      <td>0</td>\n",
              "      <td>0</td>\n",
              "      <td>Freistehend</td>\n",
              "      <td>2016</td>\n",
              "      <td>2015</td>\n",
              "      <td>8</td>\n",
              "      <td>157</td>\n",
              "      <td>298846</td>\n",
              "    </tr>\n",
              "    <tr>\n",
              "      <th>2</th>\n",
              "      <td>3</td>\n",
              "      <td>1.5</td>\n",
              "      <td>1</td>\n",
              "      <td>0</td>\n",
              "      <td>1941</td>\n",
              "      <td>Mittel</td>\n",
              "      <td>Satteldach</td>\n",
              "      <td>103</td>\n",
              "      <td>Durchschnitt</td>\n",
              "      <td>Durchschnitt</td>\n",
              "      <td>...</td>\n",
              "      <td>nein</td>\n",
              "      <td>nein</td>\n",
              "      <td>0</td>\n",
              "      <td>0</td>\n",
              "      <td>Freistehend</td>\n",
              "      <td>1961</td>\n",
              "      <td>2015</td>\n",
              "      <td>6</td>\n",
              "      <td>103</td>\n",
              "      <td>135697</td>\n",
              "    </tr>\n",
              "    <tr>\n",
              "      <th>3</th>\n",
              "      <td>1</td>\n",
              "      <td>NaN</td>\n",
              "      <td>1</td>\n",
              "      <td>1</td>\n",
              "      <td>1983</td>\n",
              "      <td>Mittel</td>\n",
              "      <td>Satteldach</td>\n",
              "      <td>58</td>\n",
              "      <td>Durchschnitt</td>\n",
              "      <td>Durchschnitt</td>\n",
              "      <td>...</td>\n",
              "      <td>nein</td>\n",
              "      <td>nein</td>\n",
              "      <td>0</td>\n",
              "      <td>0</td>\n",
              "      <td>Reihenhaus</td>\n",
              "      <td>1983</td>\n",
              "      <td>2021</td>\n",
              "      <td>5</td>\n",
              "      <td>58</td>\n",
              "      <td>92994</td>\n",
              "    </tr>\n",
              "    <tr>\n",
              "      <th>4</th>\n",
              "      <td>2</td>\n",
              "      <td>2.0</td>\n",
              "      <td>2</td>\n",
              "      <td>1</td>\n",
              "      <td>2016</td>\n",
              "      <td>NaN</td>\n",
              "      <td>Satteldach</td>\n",
              "      <td>55</td>\n",
              "      <td>Gut</td>\n",
              "      <td>Durchschnitt</td>\n",
              "      <td>...</td>\n",
              "      <td>nein</td>\n",
              "      <td>ja</td>\n",
              "      <td>1</td>\n",
              "      <td>0</td>\n",
              "      <td>Reihenhaus</td>\n",
              "      <td>2016</td>\n",
              "      <td>2017</td>\n",
              "      <td>5</td>\n",
              "      <td>111</td>\n",
              "      <td>173723</td>\n",
              "    </tr>\n",
              "    <tr>\n",
              "      <th>...</th>\n",
              "      <td>...</td>\n",
              "      <td>...</td>\n",
              "      <td>...</td>\n",
              "      <td>...</td>\n",
              "      <td>...</td>\n",
              "      <td>...</td>\n",
              "      <td>...</td>\n",
              "      <td>...</td>\n",
              "      <td>...</td>\n",
              "      <td>...</td>\n",
              "      <td>...</td>\n",
              "      <td>...</td>\n",
              "      <td>...</td>\n",
              "      <td>...</td>\n",
              "      <td>...</td>\n",
              "      <td>...</td>\n",
              "      <td>...</td>\n",
              "      <td>...</td>\n",
              "      <td>...</td>\n",
              "      <td>...</td>\n",
              "      <td>...</td>\n",
              "    </tr>\n",
              "    <tr>\n",
              "      <th>2272</th>\n",
              "      <td>3</td>\n",
              "      <td>1.0</td>\n",
              "      <td>2</td>\n",
              "      <td>1</td>\n",
              "      <td>2017</td>\n",
              "      <td>NaN</td>\n",
              "      <td>Satteldach</td>\n",
              "      <td>154</td>\n",
              "      <td>Gut</td>\n",
              "      <td>Durchschnitt</td>\n",
              "      <td>...</td>\n",
              "      <td>nein</td>\n",
              "      <td>ja</td>\n",
              "      <td>0</td>\n",
              "      <td>0</td>\n",
              "      <td>Freistehend</td>\n",
              "      <td>2018</td>\n",
              "      <td>2020</td>\n",
              "      <td>3</td>\n",
              "      <td>154</td>\n",
              "      <td>344642</td>\n",
              "    </tr>\n",
              "    <tr>\n",
              "      <th>2273</th>\n",
              "      <td>1</td>\n",
              "      <td>1.0</td>\n",
              "      <td>0</td>\n",
              "      <td>1</td>\n",
              "      <td>1933</td>\n",
              "      <td>Niedrig</td>\n",
              "      <td>Satteldach</td>\n",
              "      <td>84</td>\n",
              "      <td>Schlecht</td>\n",
              "      <td>Schlecht</td>\n",
              "      <td>...</td>\n",
              "      <td>nein</td>\n",
              "      <td>nein</td>\n",
              "      <td>1</td>\n",
              "      <td>0</td>\n",
              "      <td>Freistehend</td>\n",
              "      <td>1961</td>\n",
              "      <td>2019</td>\n",
              "      <td>3</td>\n",
              "      <td>84</td>\n",
              "      <td>69466</td>\n",
              "    </tr>\n",
              "    <tr>\n",
              "      <th>2274</th>\n",
              "      <td>4</td>\n",
              "      <td>2.0</td>\n",
              "      <td>2</td>\n",
              "      <td>0</td>\n",
              "      <td>1987</td>\n",
              "      <td>Niedrig</td>\n",
              "      <td>Flachdach</td>\n",
              "      <td>102</td>\n",
              "      <td>Durchschnitt</td>\n",
              "      <td>Durchschnitt</td>\n",
              "      <td>...</td>\n",
              "      <td>nein</td>\n",
              "      <td>nein</td>\n",
              "      <td>1</td>\n",
              "      <td>0</td>\n",
              "      <td>Freistehend</td>\n",
              "      <td>1987</td>\n",
              "      <td>2018</td>\n",
              "      <td>9</td>\n",
              "      <td>182</td>\n",
              "      <td>224472</td>\n",
              "    </tr>\n",
              "    <tr>\n",
              "      <th>2275</th>\n",
              "      <td>2</td>\n",
              "      <td>1.0</td>\n",
              "      <td>1</td>\n",
              "      <td>0</td>\n",
              "      <td>1963</td>\n",
              "      <td>Niedrig</td>\n",
              "      <td>Satteldach</td>\n",
              "      <td>85</td>\n",
              "      <td>Durchschnitt</td>\n",
              "      <td>Durchschnitt</td>\n",
              "      <td>...</td>\n",
              "      <td>nein</td>\n",
              "      <td>nein</td>\n",
              "      <td>0</td>\n",
              "      <td>0</td>\n",
              "      <td>Freistehend</td>\n",
              "      <td>1963</td>\n",
              "      <td>2015</td>\n",
              "      <td>6</td>\n",
              "      <td>85</td>\n",
              "      <td>109512</td>\n",
              "    </tr>\n",
              "    <tr>\n",
              "      <th>2276</th>\n",
              "      <td>4</td>\n",
              "      <td>2.0</td>\n",
              "      <td>2</td>\n",
              "      <td>0</td>\n",
              "      <td>2006</td>\n",
              "      <td>Niedrig</td>\n",
              "      <td>Satteldach</td>\n",
              "      <td>123</td>\n",
              "      <td>Gut</td>\n",
              "      <td>Durchschnitt</td>\n",
              "      <td>...</td>\n",
              "      <td>nein</td>\n",
              "      <td>nein</td>\n",
              "      <td>1</td>\n",
              "      <td>0</td>\n",
              "      <td>Freistehend</td>\n",
              "      <td>2006</td>\n",
              "      <td>2016</td>\n",
              "      <td>11</td>\n",
              "      <td>235</td>\n",
              "      <td>293589</td>\n",
              "    </tr>\n",
              "  </tbody>\n",
              "</table>\n",
              "<p>2277 rows × 28 columns</p>\n",
              "</div>\n",
              "      <button class=\"colab-df-convert\" onclick=\"convertToInteractive('df-beb75ada-c5cb-4337-9297-629a3cb88cee')\"\n",
              "              title=\"Convert this dataframe to an interactive table.\"\n",
              "              style=\"display:none;\">\n",
              "        \n",
              "  <svg xmlns=\"http://www.w3.org/2000/svg\" height=\"24px\"viewBox=\"0 0 24 24\"\n",
              "       width=\"24px\">\n",
              "    <path d=\"M0 0h24v24H0V0z\" fill=\"none\"/>\n",
              "    <path d=\"M18.56 5.44l.94 2.06.94-2.06 2.06-.94-2.06-.94-.94-2.06-.94 2.06-2.06.94zm-11 1L8.5 8.5l.94-2.06 2.06-.94-2.06-.94L8.5 2.5l-.94 2.06-2.06.94zm10 10l.94 2.06.94-2.06 2.06-.94-2.06-.94-.94-2.06-.94 2.06-2.06.94z\"/><path d=\"M17.41 7.96l-1.37-1.37c-.4-.4-.92-.59-1.43-.59-.52 0-1.04.2-1.43.59L10.3 9.45l-7.72 7.72c-.78.78-.78 2.05 0 2.83L4 21.41c.39.39.9.59 1.41.59.51 0 1.02-.2 1.41-.59l7.78-7.78 2.81-2.81c.8-.78.8-2.07 0-2.86zM5.41 20L4 18.59l7.72-7.72 1.47 1.35L5.41 20z\"/>\n",
              "  </svg>\n",
              "      </button>\n",
              "      \n",
              "  <style>\n",
              "    .colab-df-container {\n",
              "      display:flex;\n",
              "      flex-wrap:wrap;\n",
              "      gap: 12px;\n",
              "    }\n",
              "\n",
              "    .colab-df-convert {\n",
              "      background-color: #E8F0FE;\n",
              "      border: none;\n",
              "      border-radius: 50%;\n",
              "      cursor: pointer;\n",
              "      display: none;\n",
              "      fill: #1967D2;\n",
              "      height: 32px;\n",
              "      padding: 0 0 0 0;\n",
              "      width: 32px;\n",
              "    }\n",
              "\n",
              "    .colab-df-convert:hover {\n",
              "      background-color: #E2EBFA;\n",
              "      box-shadow: 0px 1px 2px rgba(60, 64, 67, 0.3), 0px 1px 3px 1px rgba(60, 64, 67, 0.15);\n",
              "      fill: #174EA6;\n",
              "    }\n",
              "\n",
              "    [theme=dark] .colab-df-convert {\n",
              "      background-color: #3B4455;\n",
              "      fill: #D2E3FC;\n",
              "    }\n",
              "\n",
              "    [theme=dark] .colab-df-convert:hover {\n",
              "      background-color: #434B5C;\n",
              "      box-shadow: 0px 1px 3px 1px rgba(0, 0, 0, 0.15);\n",
              "      filter: drop-shadow(0px 1px 2px rgba(0, 0, 0, 0.3));\n",
              "      fill: #FFFFFF;\n",
              "    }\n",
              "  </style>\n",
              "\n",
              "      <script>\n",
              "        const buttonEl =\n",
              "          document.querySelector('#df-beb75ada-c5cb-4337-9297-629a3cb88cee button.colab-df-convert');\n",
              "        buttonEl.style.display =\n",
              "          google.colab.kernel.accessAllowed ? 'block' : 'none';\n",
              "\n",
              "        async function convertToInteractive(key) {\n",
              "          const element = document.querySelector('#df-beb75ada-c5cb-4337-9297-629a3cb88cee');\n",
              "          const dataTable =\n",
              "            await google.colab.kernel.invokeFunction('convertToInteractive',\n",
              "                                                     [key], {});\n",
              "          if (!dataTable) return;\n",
              "\n",
              "          const docLinkHtml = 'Like what you see? Visit the ' +\n",
              "            '<a target=\"_blank\" href=https://colab.research.google.com/notebooks/data_table.ipynb>data table notebook</a>'\n",
              "            + ' to learn more about interactive tables.';\n",
              "          element.innerHTML = '';\n",
              "          dataTable['output_type'] = 'display_data';\n",
              "          await google.colab.output.renderOutput(dataTable, element);\n",
              "          const docLink = document.createElement('div');\n",
              "          docLink.innerHTML = docLinkHtml;\n",
              "          element.appendChild(docLink);\n",
              "        }\n",
              "      </script>\n",
              "    </div>\n",
              "  </div>\n",
              "  "
            ]
          },
          "metadata": {},
          "execution_count": 7
        }
      ]
    },
    {
      "cell_type": "code",
      "source": [
        "df.columns"
      ],
      "metadata": {
        "id": "nxoT3ry0_YLI",
        "colab": {
          "base_uri": "https://localhost:8080/"
        },
        "outputId": "052408b7-f959-4104-b13c-96e13893f0bf"
      },
      "execution_count": null,
      "outputs": [
        {
          "output_type": "execute_result",
          "data": {
            "text/plain": [
              "Index(['AnzahlZimmer', 'Ausbaustufe', 'Baeder', 'BaederUG', 'Baujahr',\n",
              "       'Bebauungsdichte', 'Dachtyp', 'EG_qm', 'Fassadenqual',\n",
              "       'Fassadenzustand', 'Garagen', 'Gesamteindruck', 'Grundstueck_qm',\n",
              "       'Kamine', 'KellerQual', 'Keller_qm', 'Kellerhoehe', 'Lage',\n",
              "       'Neuverkauf', 'Seelage', 'ToilettenEG', 'ToilettenUG', 'Typ',\n",
              "       'Umgebaut', 'Verkaufsjahr', 'Verkaufsmonat', 'Wohnflaeche_qm',\n",
              "       'Z_Verkaufspreis'],\n",
              "      dtype='object')"
            ]
          },
          "metadata": {},
          "execution_count": 8
        }
      ]
    },
    {
      "cell_type": "code",
      "source": [
        "sns.histplot(data=df, x=\"Z_Verkaufspreis\", bins=25, kde=True)"
      ],
      "metadata": {
        "id": "XQmPbRbSHRgL",
        "colab": {
          "base_uri": "https://localhost:8080/",
          "height": 334
        },
        "outputId": "c0017aad-e42a-4bdc-bb8d-52ebf82f4c07"
      },
      "execution_count": null,
      "outputs": [
        {
          "output_type": "execute_result",
          "data": {
            "text/plain": [
              "<matplotlib.axes._subplots.AxesSubplot at 0x7f2f71fd66d0>"
            ]
          },
          "metadata": {},
          "execution_count": 9
        },
        {
          "output_type": "display_data",
          "data": {
            "text/plain": [
              "<Figure size 1080x360 with 1 Axes>"
            ],
            "image/png": "[encoded data removed]"
          },
          "metadata": {}
        }
      ]
    },
    {
      "cell_type": "code",
      "source": [
        "sns.pairplot(df, x_vars=[\"Baujahr\"], y_vars=[\"Z_Verkaufspreis\"], height=8)"
      ],
      "metadata": {
        "id": "aZUv_d8OFiMv",
        "colab": {
          "base_uri": "https://localhost:8080/",
          "height": 601
        },
        "outputId": "cadb6358-490c-45b1-aa3c-1b193a405707"
      },
      "execution_count": null,
      "outputs": [
        {
          "output_type": "execute_result",
          "data": {
            "text/plain": [
              "<seaborn.axisgrid.PairGrid at 0x7f2f6fe90b20>"
            ]
          },
          "metadata": {},
          "execution_count": 10
        },
        {
          "output_type": "display_data",
          "data": {
            "text/plain": [
              "<Figure size 576x576 with 1 Axes>"
            ],
            "image/png": "[encoded data removed]"
          },
          "metadata": {}
        }
      ]
    },
    {
      "cell_type": "markdown",
      "source": [
        "## Prepare the Data"
      ],
      "metadata": {
        "id": "Ffo0KJdDPSWv"
      }
    },
    {
      "cell_type": "markdown",
      "source": [
        "### Data Encoding"
      ],
      "metadata": {
        "id": "WoI6rZOz13fx"
      }
    },
    {
      "cell_type": "markdown",
      "source": [
        "Fill unknown amount of floors with -1."
      ],
      "metadata": {
        "id": "iNgM1pALYBNP"
      }
    },
    {
      "cell_type": "code",
      "source": [
        "df[\"Ausbaustufe\"].fillna(-1, inplace=True)\n",
        "df[\"Ausbaustufe\"].head()"
      ],
      "metadata": {
        "id": "o1FUKHvGPWOI",
        "colab": {
          "base_uri": "https://localhost:8080/"
        },
        "outputId": "42a18aaf-dad3-4d6a-aa19-b7a7c1d71b66"
      },
      "execution_count": null,
      "outputs": [
        {
          "output_type": "execute_result",
          "data": {
            "text/plain": [
              "0   -1.0\n",
              "1    1.0\n",
              "2    1.5\n",
              "3   -1.0\n",
              "4    2.0\n",
              "Name: Ausbaustufe, dtype: float64"
            ]
          },
          "metadata": {},
          "execution_count": 11
        }
      ]
    },
    {
      "cell_type": "markdown",
      "source": [
        "Map the building density to numbers between 1 and 3 and set unknown values to -1."
      ],
      "metadata": {
        "id": "BGY96jxuYGZp"
      }
    },
    {
      "cell_type": "code",
      "source": [
        "def encode_bebauungsdichte(value):\n",
        "  label = 0\n",
        "  if value == \"Niedrig\":\n",
        "    label = 1\n",
        "  elif value == \"Mittel\":\n",
        "    label = 2\n",
        "  elif value == \"Hoch\":\n",
        "    label = 3\n",
        "  else:\n",
        "    label = -1\n",
        "  return label"
      ],
      "metadata": {
        "id": "E1ODPmcBRrpN"
      },
      "execution_count": null,
      "outputs": []
    },
    {
      "cell_type": "code",
      "source": [
        "df[\"Bebauungsdichte\"] = df[\"Bebauungsdichte\"].apply(lambda x: encode_bebauungsdichte(x))\n",
        "df[\"Bebauungsdichte\"].head()"
      ],
      "metadata": {
        "id": "7EMxZ0yhSr1b",
        "colab": {
          "base_uri": "https://localhost:8080/"
        },
        "outputId": "73a21a32-1a6f-488b-bd12-287a88f4fdbc"
      },
      "execution_count": null,
      "outputs": [
        {
          "output_type": "execute_result",
          "data": {
            "text/plain": [
              "0    1\n",
              "1    1\n",
              "2    2\n",
              "3    2\n",
              "4   -1\n",
              "Name: Bebauungsdichte, dtype: int64"
            ]
          },
          "metadata": {},
          "execution_count": 13
        }
      ]
    },
    {
      "cell_type": "markdown",
      "source": [
        "Turn any rooftop values into an own column which consists of either 0 or 1. Delete the rooftop column afterwards."
      ],
      "metadata": {
        "id": "xv0RTMGIYTBr"
      }
    },
    {
      "cell_type": "code",
      "source": [
        "df_dachtyp = pd.get_dummies(df[\"Dachtyp\"])\n",
        "df_dachtyp.head()"
      ],
      "metadata": {
        "id": "Qw44fxh4TARU",
        "colab": {
          "base_uri": "https://localhost:8080/",
          "height": 206
        },
        "outputId": "4bbd2b9a-2c2d-49ae-d436-ee23faa90c7b"
      },
      "execution_count": null,
      "outputs": [
        {
          "output_type": "execute_result",
          "data": {
            "text/plain": [
              "   Flachdach  Mansarddach  Pultdach  Satteldach  Walmdach\n",
              "0          0            0         0           1         0\n",
              "1          0            0         0           1         0\n",
              "2          0            0         0           1         0\n",
              "3          0            0         0           1         0\n",
              "4          0            0         0           1         0"
            ],
            "text/html": [
              "\n",
              "  <div id=\"df-13581b6d-35f3-4192-9897-ceef23e067af\">\n",
              "    <div class=\"colab-df-container\">\n",
              "      <div>\n",
              "<style scoped>\n",
              "    .dataframe tbody tr th:only-of-type {\n",
              "        vertical-align: middle;\n",
              "    }\n",
              "\n",
              "    .dataframe tbody tr th {\n",
              "        vertical-align: top;\n",
              "    }\n",
              "\n",
              "    .dataframe thead th {\n",
              "        text-align: right;\n",
              "    }\n",
              "</style>\n",
              "<table border=\"1\" class=\"dataframe\">\n",
              "  <thead>\n",
              "    <tr style=\"text-align: right;\">\n",
              "      <th></th>\n",
              "      <th>Flachdach</th>\n",
              "      <th>Mansarddach</th>\n",
              "      <th>Pultdach</th>\n",
              "      <th>Satteldach</th>\n",
              "      <th>Walmdach</th>\n",
              "    </tr>\n",
              "  </thead>\n",
              "  <tbody>\n",
              "    <tr>\n",
              "      <th>0</th>\n",
              "      <td>0</td>\n",
              "      <td>0</td>\n",
              "      <td>0</td>\n",
              "      <td>1</td>\n",
              "      <td>0</td>\n",
              "    </tr>\n",
              "    <tr>\n",
              "      <th>1</th>\n",
              "      <td>0</td>\n",
              "      <td>0</td>\n",
              "      <td>0</td>\n",
              "      <td>1</td>\n",
              "      <td>0</td>\n",
              "    </tr>\n",
              "    <tr>\n",
              "      <th>2</th>\n",
              "      <td>0</td>\n",
              "      <td>0</td>\n",
              "      <td>0</td>\n",
              "      <td>1</td>\n",
              "      <td>0</td>\n",
              "    </tr>\n",
              "    <tr>\n",
              "      <th>3</th>\n",
              "      <td>0</td>\n",
              "      <td>0</td>\n",
              "      <td>0</td>\n",
              "      <td>1</td>\n",
              "      <td>0</td>\n",
              "    </tr>\n",
              "    <tr>\n",
              "      <th>4</th>\n",
              "      <td>0</td>\n",
              "      <td>0</td>\n",
              "      <td>0</td>\n",
              "      <td>1</td>\n",
              "      <td>0</td>\n",
              "    </tr>\n",
              "  </tbody>\n",
              "</table>\n",
              "</div>\n",
              "      <button class=\"colab-df-convert\" onclick=\"convertToInteractive('df-13581b6d-35f3-4192-9897-ceef23e067af')\"\n",
              "              title=\"Convert this dataframe to an interactive table.\"\n",
              "              style=\"display:none;\">\n",
              "        \n",
              "  <svg xmlns=\"http://www.w3.org/2000/svg\" height=\"24px\"viewBox=\"0 0 24 24\"\n",
              "       width=\"24px\">\n",
              "    <path d=\"M0 0h24v24H0V0z\" fill=\"none\"/>\n",
              "    <path d=\"M18.56 5.44l.94 2.06.94-2.06 2.06-.94-2.06-.94-.94-2.06-.94 2.06-2.06.94zm-11 1L8.5 8.5l.94-2.06 2.06-.94-2.06-.94L8.5 2.5l-.94 2.06-2.06.94zm10 10l.94 2.06.94-2.06 2.06-.94-2.06-.94-.94-2.06-.94 2.06-2.06.94z\"/><path d=\"M17.41 7.96l-1.37-1.37c-.4-.4-.92-.59-1.43-.59-.52 0-1.04.2-1.43.59L10.3 9.45l-7.72 7.72c-.78.78-.78 2.05 0 2.83L4 21.41c.39.39.9.59 1.41.59.51 0 1.02-.2 1.41-.59l7.78-7.78 2.81-2.81c.8-.78.8-2.07 0-2.86zM5.41 20L4 18.59l7.72-7.72 1.47 1.35L5.41 20z\"/>\n",
              "  </svg>\n",
              "      </button>\n",
              "      \n",
              "  <style>\n",
              "    .colab-df-container {\n",
              "      display:flex;\n",
              "      flex-wrap:wrap;\n",
              "      gap: 12px;\n",
              "    }\n",
              "\n",
              "    .colab-df-convert {\n",
              "      background-color: #E8F0FE;\n",
              "      border: none;\n",
              "      border-radius: 50%;\n",
              "      cursor: pointer;\n",
              "      display: none;\n",
              "      fill: #1967D2;\n",
              "      height: 32px;\n",
              "      padding: 0 0 0 0;\n",
              "      width: 32px;\n",
              "    }\n",
              "\n",
              "    .colab-df-convert:hover {\n",
              "      background-color: #E2EBFA;\n",
              "      box-shadow: 0px 1px 2px rgba(60, 64, 67, 0.3), 0px 1px 3px 1px rgba(60, 64, 67, 0.15);\n",
              "      fill: #174EA6;\n",
              "    }\n",
              "\n",
              "    [theme=dark] .colab-df-convert {\n",
              "      background-color: #3B4455;\n",
              "      fill: #D2E3FC;\n",
              "    }\n",
              "\n",
              "    [theme=dark] .colab-df-convert:hover {\n",
              "      background-color: #434B5C;\n",
              "      box-shadow: 0px 1px 3px 1px rgba(0, 0, 0, 0.15);\n",
              "      filter: drop-shadow(0px 1px 2px rgba(0, 0, 0, 0.3));\n",
              "      fill: #FFFFFF;\n",
              "    }\n",
              "  </style>\n",
              "\n",
              "      <script>\n",
              "        const buttonEl =\n",
              "          document.querySelector('#df-13581b6d-35f3-4192-9897-ceef23e067af button.colab-df-convert');\n",
              "        buttonEl.style.display =\n",
              "          google.colab.kernel.accessAllowed ? 'block' : 'none';\n",
              "\n",
              "        async function convertToInteractive(key) {\n",
              "          const element = document.querySelector('#df-13581b6d-35f3-4192-9897-ceef23e067af');\n",
              "          const dataTable =\n",
              "            await google.colab.kernel.invokeFunction('convertToInteractive',\n",
              "                                                     [key], {});\n",
              "          if (!dataTable) return;\n",
              "\n",
              "          const docLinkHtml = 'Like what you see? Visit the ' +\n",
              "            '<a target=\"_blank\" href=https://colab.research.google.com/notebooks/data_table.ipynb>data table notebook</a>'\n",
              "            + ' to learn more about interactive tables.';\n",
              "          element.innerHTML = '';\n",
              "          dataTable['output_type'] = 'display_data';\n",
              "          await google.colab.output.renderOutput(dataTable, element);\n",
              "          const docLink = document.createElement('div');\n",
              "          docLink.innerHTML = docLinkHtml;\n",
              "          element.appendChild(docLink);\n",
              "        }\n",
              "      </script>\n",
              "    </div>\n",
              "  </div>\n",
              "  "
            ]
          },
          "metadata": {},
          "execution_count": 14
        }
      ]
    },
    {
      "cell_type": "code",
      "source": [
        "df = df.join(df_dachtyp)\n",
        "df.drop([\"Dachtyp\"], axis=1, inplace=True)"
      ],
      "metadata": {
        "id": "kB9pTLZeT_sk"
      },
      "execution_count": null,
      "outputs": []
    },
    {
      "cell_type": "markdown",
      "source": [
        "Turn any rating values into numeric values between 1 and 5. In case of an empty value, we will write -1 in that cell."
      ],
      "metadata": {
        "id": "7rhdPBsfZAkr"
      }
    },
    {
      "cell_type": "code",
      "source": [
        "def encode_rating_features(value):\n",
        "  label = 0\n",
        "  value = str(value).lower()\n",
        "  if \"sehr schlecht\" == value:\n",
        "    label = 1\n",
        "  elif \"schlecht\" == value:\n",
        "    label = 2\n",
        "  elif \"durchschnitt\" == value:\n",
        "    label = 3\n",
        "  elif \"gut\" == value:\n",
        "    label = 4\n",
        "  elif \"sehr gut\" == value:\n",
        "    label = 5\n",
        "  else:\n",
        "    label = -1\n",
        "  return label"
      ],
      "metadata": {
        "id": "rds9LDDGULdA"
      },
      "execution_count": null,
      "outputs": []
    },
    {
      "cell_type": "code",
      "source": [
        "df[\"Fassadenqual\"] = df[\"Fassadenqual\"].apply(lambda x: encode_rating_features(x))\n",
        "df[\"Fassadenqual\"].head()"
      ],
      "metadata": {
        "id": "lcyFHK8ZVNbu",
        "colab": {
          "base_uri": "https://localhost:8080/"
        },
        "outputId": "2cf1ae2e-39c3-4e3a-c2a3-cbc86eb15272"
      },
      "execution_count": null,
      "outputs": [
        {
          "output_type": "execute_result",
          "data": {
            "text/plain": [
              "0    3\n",
              "1    4\n",
              "2    3\n",
              "3    3\n",
              "4    4\n",
              "Name: Fassadenqual, dtype: int64"
            ]
          },
          "metadata": {},
          "execution_count": 17
        }
      ]
    },
    {
      "cell_type": "code",
      "source": [
        "df[\"Fassadenzustand\"] = df[\"Fassadenzustand\"].apply(lambda x: encode_rating_features(x))\n",
        "df[\"Fassadenzustand\"].head()"
      ],
      "metadata": {
        "id": "Wj-HbR-OWCFU",
        "colab": {
          "base_uri": "https://localhost:8080/"
        },
        "outputId": "4a00a011-e1bf-49e3-9410-c085e030a4c4"
      },
      "execution_count": null,
      "outputs": [
        {
          "output_type": "execute_result",
          "data": {
            "text/plain": [
              "0    3\n",
              "1    3\n",
              "2    3\n",
              "3    3\n",
              "4    3\n",
              "Name: Fassadenzustand, dtype: int64"
            ]
          },
          "metadata": {},
          "execution_count": 18
        }
      ]
    },
    {
      "cell_type": "code",
      "source": [
        "df[\"Kellerhoehe\"] = df[\"Kellerhoehe\"].apply(lambda x: encode_rating_features(x))\n",
        "df[\"Kellerhoehe\"].head()"
      ],
      "metadata": {
        "id": "Mam9m-n-WTkj",
        "colab": {
          "base_uri": "https://localhost:8080/"
        },
        "outputId": "109b96e8-ecec-4e87-99d3-7fce4c667fd3"
      },
      "execution_count": null,
      "outputs": [
        {
          "output_type": "execute_result",
          "data": {
            "text/plain": [
              "0    4\n",
              "1    5\n",
              "2    3\n",
              "3    4\n",
              "4    4\n",
              "Name: Kellerhoehe, dtype: int64"
            ]
          },
          "metadata": {},
          "execution_count": 19
        }
      ]
    },
    {
      "cell_type": "markdown",
      "source": [
        "Turn the locations into longitude and latitude coordinations."
      ],
      "metadata": {
        "id": "C0GUc35LZ1F0"
      }
    },
    {
      "cell_type": "code",
      "source": [
        "from geopy.geocoders import Nominatim\n",
        "geolocator = Nominatim(user_agent='myapplication')"
      ],
      "metadata": {
        "id": "DQUd8EwgXszA"
      },
      "execution_count": null,
      "outputs": []
    },
    {
      "cell_type": "code",
      "source": [
        "lage_names = df['Lage'].value_counts().index\n",
        "lage_name_list = list(lage_names)\n",
        "print(lage_name_list)"
      ],
      "metadata": {
        "id": "wr_idzOAbeY2",
        "colab": {
          "base_uri": "https://localhost:8080/"
        },
        "outputId": "c05d20ee-f676-4bd5-977f-3c7517d2fd55"
      },
      "execution_count": null,
      "outputs": [
        {
          "output_type": "stream",
          "name": "stdout",
          "text": [
            "['Vaihingen Stuttgart', 'Wangen Stuttgart', 'Bad Cannstatt Stuttgart', 'Birkach Stuttgart', 'Stuttgart Süd', 'Stuttgart Mitte', 'Stuttgart Nord', 'Sillenbuch Stuttgart', 'Plieningen Stuttgart', 'Stuttgart Ost', 'Stuttgart West', 'Möhringen Stuttgart', 'Botnang Stuttgart', 'Stammheim Stuttgart', 'Zuffenhausen Stuttgart', 'Untertürkheim Stuttgart', 'Degerloch Stuttgart', 'Münster Stuttgart', 'Hedelfingen Stuttgart', 'Weilimdorf Stuttgart', 'Stuttgart']\n"
          ]
        }
      ]
    },
    {
      "cell_type": "code",
      "source": [
        "lage_locations = []\n",
        "for e in lage_name_list:\n",
        "    loc = geolocator.geocode(e)\n",
        "    lage_locations.append(loc.raw)"
      ],
      "metadata": {
        "id": "7ZevMYIwatcz"
      },
      "execution_count": null,
      "outputs": []
    },
    {
      "cell_type": "code",
      "source": [
        "lage_locations[0]"
      ],
      "metadata": {
        "id": "57-NrFLdcIr-",
        "colab": {
          "base_uri": "https://localhost:8080/"
        },
        "outputId": "9dcd35d4-dc20-43f4-ca4e-678628dbceee"
      },
      "execution_count": null,
      "outputs": [
        {
          "output_type": "execute_result",
          "data": {
            "text/plain": [
              "{'place_id': 298215492,\n",
              " 'licence': 'Data © OpenStreetMap contributors, ODbL 1.0. https://osm.org/copyright',\n",
              " 'osm_type': 'relation',\n",
              " 'osm_id': 1107807,\n",
              " 'boundingbox': ['48.7101204', '48.7585309', '9.0386007', '9.1284576'],\n",
              " 'lat': '48.734330549999996',\n",
              " 'lon': '9.088779104982365',\n",
              " 'display_name': 'Vaihingen, Stuttgart, Baden-Württemberg, Deutschland',\n",
              " 'class': 'boundary',\n",
              " 'type': 'administrative',\n",
              " 'importance': 0.5654990317530526,\n",
              " 'icon': 'https://nominatim.openstreetmap.org/ui/mapicons/poi_boundary_administrative.p.20.png'}"
            ]
          },
          "metadata": {},
          "execution_count": 23
        }
      ]
    },
    {
      "cell_type": "code",
      "source": [
        "def encode_lage_to_coord(city, axis):\n",
        "    coord = 0\n",
        "    if city in lage_name_list:\n",
        "        name_index = lage_name_list.index(city)\n",
        "        coord = lage_locations[name_index][axis]\n",
        "        coord = float(coord)\n",
        "    else:\n",
        "        loc = geolocator.geocode(city)\n",
        "        if loc.raw:\n",
        "          coord = loc.raw[axis]\n",
        "          coord = float(coord)\n",
        "        else:\n",
        "          raise RuntimeError(f\"ERROR: Unknown location for {city}\")\n",
        "    return coord"
      ],
      "metadata": {
        "id": "1qYazW4edM7J"
      },
      "execution_count": null,
      "outputs": []
    },
    {
      "cell_type": "code",
      "source": [
        "df['Lage_lon'] = df['Lage'].apply(lambda x: encode_lage_to_coord(x, 'lon'))\n",
        "df['Lage_lat'] = df['Lage'].apply(lambda x: encode_lage_to_coord(x, 'lat'))\n",
        "df[['Lage', 'Lage_lon', 'Lage_lat']].head()"
      ],
      "metadata": {
        "id": "tPdS-RFPdvIw",
        "colab": {
          "base_uri": "https://localhost:8080/",
          "height": 206
        },
        "outputId": "d1de718f-c096-4f9a-e707-7084363c17ad"
      },
      "execution_count": null,
      "outputs": [
        {
          "output_type": "execute_result",
          "data": {
            "text/plain": [
              "                      Lage  Lage_lon   Lage_lat\n",
              "0  Bad Cannstatt Stuttgart  9.214680  48.804883\n",
              "1         Wangen Stuttgart  9.244927  48.771985\n",
              "2      Stammheim Stuttgart  9.157305  48.849798\n",
              "3  Untertürkheim Stuttgart  9.250900  48.780200\n",
              "4         Wangen Stuttgart  9.244927  48.771985"
            ],
            "text/html": [
              "\n",
              "  <div id=\"df-8d974770-647f-4fe2-b8c6-5cf6581c04f5\">\n",
              "    <div class=\"colab-df-container\">\n",
              "      <div>\n",
              "<style scoped>\n",
              "    .dataframe tbody tr th:only-of-type {\n",
              "        vertical-align: middle;\n",
              "    }\n",
              "\n",
              "    .dataframe tbody tr th {\n",
              "        vertical-align: top;\n",
              "    }\n",
              "\n",
              "    .dataframe thead th {\n",
              "        text-align: right;\n",
              "    }\n",
              "</style>\n",
              "<table border=\"1\" class=\"dataframe\">\n",
              "  <thead>\n",
              "    <tr style=\"text-align: right;\">\n",
              "      <th></th>\n",
              "      <th>Lage</th>\n",
              "      <th>Lage_lon</th>\n",
              "      <th>Lage_lat</th>\n",
              "    </tr>\n",
              "  </thead>\n",
              "  <tbody>\n",
              "    <tr>\n",
              "      <th>0</th>\n",
              "      <td>Bad Cannstatt Stuttgart</td>\n",
              "      <td>9.214680</td>\n",
              "      <td>48.804883</td>\n",
              "    </tr>\n",
              "    <tr>\n",
              "      <th>1</th>\n",
              "      <td>Wangen Stuttgart</td>\n",
              "      <td>9.244927</td>\n",
              "      <td>48.771985</td>\n",
              "    </tr>\n",
              "    <tr>\n",
              "      <th>2</th>\n",
              "      <td>Stammheim Stuttgart</td>\n",
              "      <td>9.157305</td>\n",
              "      <td>48.849798</td>\n",
              "    </tr>\n",
              "    <tr>\n",
              "      <th>3</th>\n",
              "      <td>Untertürkheim Stuttgart</td>\n",
              "      <td>9.250900</td>\n",
              "      <td>48.780200</td>\n",
              "    </tr>\n",
              "    <tr>\n",
              "      <th>4</th>\n",
              "      <td>Wangen Stuttgart</td>\n",
              "      <td>9.244927</td>\n",
              "      <td>48.771985</td>\n",
              "    </tr>\n",
              "  </tbody>\n",
              "</table>\n",
              "</div>\n",
              "      <button class=\"colab-df-convert\" onclick=\"convertToInteractive('df-8d974770-647f-4fe2-b8c6-5cf6581c04f5')\"\n",
              "              title=\"Convert this dataframe to an interactive table.\"\n",
              "              style=\"display:none;\">\n",
              "        \n",
              "  <svg xmlns=\"http://www.w3.org/2000/svg\" height=\"24px\"viewBox=\"0 0 24 24\"\n",
              "       width=\"24px\">\n",
              "    <path d=\"M0 0h24v24H0V0z\" fill=\"none\"/>\n",
              "    <path d=\"M18.56 5.44l.94 2.06.94-2.06 2.06-.94-2.06-.94-.94-2.06-.94 2.06-2.06.94zm-11 1L8.5 8.5l.94-2.06 2.06-.94-2.06-.94L8.5 2.5l-.94 2.06-2.06.94zm10 10l.94 2.06.94-2.06 2.06-.94-2.06-.94-.94-2.06-.94 2.06-2.06.94z\"/><path d=\"M17.41 7.96l-1.37-1.37c-.4-.4-.92-.59-1.43-.59-.52 0-1.04.2-1.43.59L10.3 9.45l-7.72 7.72c-.78.78-.78 2.05 0 2.83L4 21.41c.39.39.9.59 1.41.59.51 0 1.02-.2 1.41-.59l7.78-7.78 2.81-2.81c.8-.78.8-2.07 0-2.86zM5.41 20L4 18.59l7.72-7.72 1.47 1.35L5.41 20z\"/>\n",
              "  </svg>\n",
              "      </button>\n",
              "      \n",
              "  <style>\n",
              "    .colab-df-container {\n",
              "      display:flex;\n",
              "      flex-wrap:wrap;\n",
              "      gap: 12px;\n",
              "    }\n",
              "\n",
              "    .colab-df-convert {\n",
              "      background-color: #E8F0FE;\n",
              "      border: none;\n",
              "      border-radius: 50%;\n",
              "      cursor: pointer;\n",
              "      display: none;\n",
              "      fill: #1967D2;\n",
              "      height: 32px;\n",
              "      padding: 0 0 0 0;\n",
              "      width: 32px;\n",
              "    }\n",
              "\n",
              "    .colab-df-convert:hover {\n",
              "      background-color: #E2EBFA;\n",
              "      box-shadow: 0px 1px 2px rgba(60, 64, 67, 0.3), 0px 1px 3px 1px rgba(60, 64, 67, 0.15);\n",
              "      fill: #174EA6;\n",
              "    }\n",
              "\n",
              "    [theme=dark] .colab-df-convert {\n",
              "      background-color: #3B4455;\n",
              "      fill: #D2E3FC;\n",
              "    }\n",
              "\n",
              "    [theme=dark] .colab-df-convert:hover {\n",
              "      background-color: #434B5C;\n",
              "      box-shadow: 0px 1px 3px 1px rgba(0, 0, 0, 0.15);\n",
              "      filter: drop-shadow(0px 1px 2px rgba(0, 0, 0, 0.3));\n",
              "      fill: #FFFFFF;\n",
              "    }\n",
              "  </style>\n",
              "\n",
              "      <script>\n",
              "        const buttonEl =\n",
              "          document.querySelector('#df-8d974770-647f-4fe2-b8c6-5cf6581c04f5 button.colab-df-convert');\n",
              "        buttonEl.style.display =\n",
              "          google.colab.kernel.accessAllowed ? 'block' : 'none';\n",
              "\n",
              "        async function convertToInteractive(key) {\n",
              "          const element = document.querySelector('#df-8d974770-647f-4fe2-b8c6-5cf6581c04f5');\n",
              "          const dataTable =\n",
              "            await google.colab.kernel.invokeFunction('convertToInteractive',\n",
              "                                                     [key], {});\n",
              "          if (!dataTable) return;\n",
              "\n",
              "          const docLinkHtml = 'Like what you see? Visit the ' +\n",
              "            '<a target=\"_blank\" href=https://colab.research.google.com/notebooks/data_table.ipynb>data table notebook</a>'\n",
              "            + ' to learn more about interactive tables.';\n",
              "          element.innerHTML = '';\n",
              "          dataTable['output_type'] = 'display_data';\n",
              "          await google.colab.output.renderOutput(dataTable, element);\n",
              "          const docLink = document.createElement('div');\n",
              "          docLink.innerHTML = docLinkHtml;\n",
              "          element.appendChild(docLink);\n",
              "        }\n",
              "      </script>\n",
              "    </div>\n",
              "  </div>\n",
              "  "
            ]
          },
          "metadata": {},
          "execution_count": 25
        }
      ]
    },
    {
      "cell_type": "code",
      "source": [
        "df.drop(['Lage'], axis=1, inplace=True)"
      ],
      "metadata": {
        "id": "v3fs3IKAd7G-"
      },
      "execution_count": null,
      "outputs": []
    },
    {
      "cell_type": "markdown",
      "source": [
        "Map boolean features to numbers (0 and 1)."
      ],
      "metadata": {
        "id": "L5WvOrIkeK6w"
      }
    },
    {
      "cell_type": "code",
      "source": [
        "def encode_boolean_features(value):\n",
        "  if value == \"ja\":\n",
        "    label = 1\n",
        "  elif value == \"nein\":\n",
        "    label = 0\n",
        "  else:\n",
        "    raise RuntimeError(f\"ERROR: Unknown value: {value}\")\n",
        "  return label"
      ],
      "metadata": {
        "id": "5iaTwpbReBEC"
      },
      "execution_count": null,
      "outputs": []
    },
    {
      "cell_type": "code",
      "source": [
        "df[\"Neuverkauf\"] = df[\"Neuverkauf\"].apply(lambda x: encode_boolean_features(x))\n",
        "df[\"Neuverkauf\"].head()"
      ],
      "metadata": {
        "id": "yaabNDc3e6Uc",
        "colab": {
          "base_uri": "https://localhost:8080/"
        },
        "outputId": "47698c94-d7d2-48e3-bb67-0e4e8e7d400c"
      },
      "execution_count": null,
      "outputs": [
        {
          "output_type": "execute_result",
          "data": {
            "text/plain": [
              "0    0\n",
              "1    0\n",
              "2    0\n",
              "3    0\n",
              "4    0\n",
              "Name: Neuverkauf, dtype: int64"
            ]
          },
          "metadata": {},
          "execution_count": 28
        }
      ]
    },
    {
      "cell_type": "code",
      "source": [
        "df[\"Seelage\"] = df[\"Seelage\"].apply(lambda x: encode_boolean_features(x))\n",
        "df[\"Seelage\"].head()"
      ],
      "metadata": {
        "id": "Op5RqiYIyiMN",
        "colab": {
          "base_uri": "https://localhost:8080/"
        },
        "outputId": "66e5f9fd-3fd3-49ff-d6d7-fbb17cd5bb9e"
      },
      "execution_count": null,
      "outputs": [
        {
          "output_type": "execute_result",
          "data": {
            "text/plain": [
              "0    0\n",
              "1    0\n",
              "2    0\n",
              "3    0\n",
              "4    1\n",
              "Name: Seelage, dtype: int64"
            ]
          },
          "metadata": {},
          "execution_count": 29
        }
      ]
    },
    {
      "cell_type": "markdown",
      "source": [
        "Turn house types into own columns."
      ],
      "metadata": {
        "id": "sIy9iJbZy5wd"
      }
    },
    {
      "cell_type": "code",
      "source": [
        "df_haustyp = pd.get_dummies(df[\"Typ\"])\n",
        "df_haustyp.head()"
      ],
      "metadata": {
        "id": "niX6-vHPy2Ru",
        "colab": {
          "base_uri": "https://localhost:8080/",
          "height": 206
        },
        "outputId": "48d604d7-a2d4-4d86-9eaa-3c7797655222"
      },
      "execution_count": null,
      "outputs": [
        {
          "output_type": "execute_result",
          "data": {
            "text/plain": [
              "   Doppelhaus  Freistehend  Reihenhaus\n",
              "0           0            1           0\n",
              "1           0            1           0\n",
              "2           0            1           0\n",
              "3           0            0           1\n",
              "4           0            0           1"
            ],
            "text/html": [
              "\n",
              "  <div id=\"df-b0b1deb3-df25-423c-aa87-4e078a2221e6\">\n",
              "    <div class=\"colab-df-container\">\n",
              "      <div>\n",
              "<style scoped>\n",
              "    .dataframe tbody tr th:only-of-type {\n",
              "        vertical-align: middle;\n",
              "    }\n",
              "\n",
              "    .dataframe tbody tr th {\n",
              "        vertical-align: top;\n",
              "    }\n",
              "\n",
              "    .dataframe thead th {\n",
              "        text-align: right;\n",
              "    }\n",
              "</style>\n",
              "<table border=\"1\" class=\"dataframe\">\n",
              "  <thead>\n",
              "    <tr style=\"text-align: right;\">\n",
              "      <th></th>\n",
              "      <th>Doppelhaus</th>\n",
              "      <th>Freistehend</th>\n",
              "      <th>Reihenhaus</th>\n",
              "    </tr>\n",
              "  </thead>\n",
              "  <tbody>\n",
              "    <tr>\n",
              "      <th>0</th>\n",
              "      <td>0</td>\n",
              "      <td>1</td>\n",
              "      <td>0</td>\n",
              "    </tr>\n",
              "    <tr>\n",
              "      <th>1</th>\n",
              "      <td>0</td>\n",
              "      <td>1</td>\n",
              "      <td>0</td>\n",
              "    </tr>\n",
              "    <tr>\n",
              "      <th>2</th>\n",
              "      <td>0</td>\n",
              "      <td>1</td>\n",
              "      <td>0</td>\n",
              "    </tr>\n",
              "    <tr>\n",
              "      <th>3</th>\n",
              "      <td>0</td>\n",
              "      <td>0</td>\n",
              "      <td>1</td>\n",
              "    </tr>\n",
              "    <tr>\n",
              "      <th>4</th>\n",
              "      <td>0</td>\n",
              "      <td>0</td>\n",
              "      <td>1</td>\n",
              "    </tr>\n",
              "  </tbody>\n",
              "</table>\n",
              "</div>\n",
              "      <button class=\"colab-df-convert\" onclick=\"convertToInteractive('df-b0b1deb3-df25-423c-aa87-4e078a2221e6')\"\n",
              "              title=\"Convert this dataframe to an interactive table.\"\n",
              "              style=\"display:none;\">\n",
              "        \n",
              "  <svg xmlns=\"http://www.w3.org/2000/svg\" height=\"24px\"viewBox=\"0 0 24 24\"\n",
              "       width=\"24px\">\n",
              "    <path d=\"M0 0h24v24H0V0z\" fill=\"none\"/>\n",
              "    <path d=\"M18.56 5.44l.94 2.06.94-2.06 2.06-.94-2.06-.94-.94-2.06-.94 2.06-2.06.94zm-11 1L8.5 8.5l.94-2.06 2.06-.94-2.06-.94L8.5 2.5l-.94 2.06-2.06.94zm10 10l.94 2.06.94-2.06 2.06-.94-2.06-.94-.94-2.06-.94 2.06-2.06.94z\"/><path d=\"M17.41 7.96l-1.37-1.37c-.4-.4-.92-.59-1.43-.59-.52 0-1.04.2-1.43.59L10.3 9.45l-7.72 7.72c-.78.78-.78 2.05 0 2.83L4 21.41c.39.39.9.59 1.41.59.51 0 1.02-.2 1.41-.59l7.78-7.78 2.81-2.81c.8-.78.8-2.07 0-2.86zM5.41 20L4 18.59l7.72-7.72 1.47 1.35L5.41 20z\"/>\n",
              "  </svg>\n",
              "      </button>\n",
              "      \n",
              "  <style>\n",
              "    .colab-df-container {\n",
              "      display:flex;\n",
              "      flex-wrap:wrap;\n",
              "      gap: 12px;\n",
              "    }\n",
              "\n",
              "    .colab-df-convert {\n",
              "      background-color: #E8F0FE;\n",
              "      border: none;\n",
              "      border-radius: 50%;\n",
              "      cursor: pointer;\n",
              "      display: none;\n",
              "      fill: #1967D2;\n",
              "      height: 32px;\n",
              "      padding: 0 0 0 0;\n",
              "      width: 32px;\n",
              "    }\n",
              "\n",
              "    .colab-df-convert:hover {\n",
              "      background-color: #E2EBFA;\n",
              "      box-shadow: 0px 1px 2px rgba(60, 64, 67, 0.3), 0px 1px 3px 1px rgba(60, 64, 67, 0.15);\n",
              "      fill: #174EA6;\n",
              "    }\n",
              "\n",
              "    [theme=dark] .colab-df-convert {\n",
              "      background-color: #3B4455;\n",
              "      fill: #D2E3FC;\n",
              "    }\n",
              "\n",
              "    [theme=dark] .colab-df-convert:hover {\n",
              "      background-color: #434B5C;\n",
              "      box-shadow: 0px 1px 3px 1px rgba(0, 0, 0, 0.15);\n",
              "      filter: drop-shadow(0px 1px 2px rgba(0, 0, 0, 0.3));\n",
              "      fill: #FFFFFF;\n",
              "    }\n",
              "  </style>\n",
              "\n",
              "      <script>\n",
              "        const buttonEl =\n",
              "          document.querySelector('#df-b0b1deb3-df25-423c-aa87-4e078a2221e6 button.colab-df-convert');\n",
              "        buttonEl.style.display =\n",
              "          google.colab.kernel.accessAllowed ? 'block' : 'none';\n",
              "\n",
              "        async function convertToInteractive(key) {\n",
              "          const element = document.querySelector('#df-b0b1deb3-df25-423c-aa87-4e078a2221e6');\n",
              "          const dataTable =\n",
              "            await google.colab.kernel.invokeFunction('convertToInteractive',\n",
              "                                                     [key], {});\n",
              "          if (!dataTable) return;\n",
              "\n",
              "          const docLinkHtml = 'Like what you see? Visit the ' +\n",
              "            '<a target=\"_blank\" href=https://colab.research.google.com/notebooks/data_table.ipynb>data table notebook</a>'\n",
              "            + ' to learn more about interactive tables.';\n",
              "          element.innerHTML = '';\n",
              "          dataTable['output_type'] = 'display_data';\n",
              "          await google.colab.output.renderOutput(dataTable, element);\n",
              "          const docLink = document.createElement('div');\n",
              "          docLink.innerHTML = docLinkHtml;\n",
              "          element.appendChild(docLink);\n",
              "        }\n",
              "      </script>\n",
              "    </div>\n",
              "  </div>\n",
              "  "
            ]
          },
          "metadata": {},
          "execution_count": 30
        }
      ]
    },
    {
      "cell_type": "code",
      "source": [
        "df = df.join(df_haustyp)\n",
        "df.drop([\"Typ\"], axis=1, inplace=True)"
      ],
      "metadata": {
        "id": "NGl_7Q7M1rQG"
      },
      "execution_count": null,
      "outputs": []
    },
    {
      "cell_type": "markdown",
      "source": [
        "Our final dataset after feature encoding:"
      ],
      "metadata": {
        "id": "w9R8OF8c2I6w"
      }
    },
    {
      "cell_type": "code",
      "source": [
        "df = df.sort_index(axis=1)"
      ],
      "metadata": {
        "id": "RDyE1Hra1sZm"
      },
      "execution_count": null,
      "outputs": []
    },
    {
      "cell_type": "code",
      "source": [
        "df"
      ],
      "metadata": {
        "id": "5KgblLNa1wlJ",
        "colab": {
          "base_uri": "https://localhost:8080/",
          "height": 487
        },
        "outputId": "f64f5e84-0d3f-45f1-f90e-d7616c4a3388"
      },
      "execution_count": null,
      "outputs": [
        {
          "output_type": "execute_result",
          "data": {
            "text/plain": [
              "      AnzahlZimmer  Ausbaustufe  Baeder  BaederUG  Baujahr  Bebauungsdichte  \\\n",
              "0                3         -1.0       1         1     1989                1   \n",
              "1                3          1.0       2         1     2015                1   \n",
              "2                3          1.5       1         0     1941                2   \n",
              "3                1         -1.0       1         1     1983                2   \n",
              "4                2          2.0       2         1     2016               -1   \n",
              "...            ...          ...     ...       ...      ...              ...   \n",
              "2272             3          1.0       2         1     2017               -1   \n",
              "2273             1          1.0       0         1     1933                1   \n",
              "2274             4          2.0       2         0     1987                1   \n",
              "2275             2          1.0       1         0     1963                1   \n",
              "2276             4          2.0       2         0     2006                1   \n",
              "\n",
              "      Doppelhaus  EG_qm  Fassadenqual  Fassadenzustand  ...  Satteldach  \\\n",
              "0              0     95             3                3  ...           1   \n",
              "1              0    157             4                3  ...           1   \n",
              "2              0    103             3                3  ...           1   \n",
              "3              0     58             3                3  ...           1   \n",
              "4              0     55             4                3  ...           1   \n",
              "...          ...    ...           ...              ...  ...         ...   \n",
              "2272           0    154             4                3  ...           1   \n",
              "2273           0     84             2                2  ...           1   \n",
              "2274           0    102             3                3  ...           0   \n",
              "2275           0     85             3                3  ...           1   \n",
              "2276           0    123             4                3  ...           1   \n",
              "\n",
              "      Seelage  ToilettenEG  ToilettenUG  Umgebaut  Verkaufsjahr  \\\n",
              "0           0            0            0      1989          2017   \n",
              "1           0            0            0      2016          2015   \n",
              "2           0            0            0      1961          2015   \n",
              "3           0            0            0      1983          2021   \n",
              "4           1            1            0      2016          2017   \n",
              "...       ...          ...          ...       ...           ...   \n",
              "2272        1            0            0      2018          2020   \n",
              "2273        0            1            0      1961          2019   \n",
              "2274        0            1            0      1987          2018   \n",
              "2275        0            0            0      1963          2015   \n",
              "2276        0            1            0      2006          2016   \n",
              "\n",
              "      Verkaufsmonat  Walmdach  Wohnflaeche_qm  Z_Verkaufspreis  \n",
              "0                10         0              95           154772  \n",
              "1                 8         0             157           298846  \n",
              "2                 6         0             103           135697  \n",
              "3                 5         0              58            92994  \n",
              "4                 5         0             111           173723  \n",
              "...             ...       ...             ...              ...  \n",
              "2272              3         0             154           344642  \n",
              "2273              3         0              84            69466  \n",
              "2274              9         0             182           224472  \n",
              "2275              6         0              85           109512  \n",
              "2276             11         0             235           293589  \n",
              "\n",
              "[2277 rows x 35 columns]"
            ],
            "text/html": [
              "\n",
              "  <div id=\"df-5a30c3cd-4c46-4290-9b8d-8a77f6fcfe7e\">\n",
              "    <div class=\"colab-df-container\">\n",
              "      <div>\n",
              "<style scoped>\n",
              "    .dataframe tbody tr th:only-of-type {\n",
              "        vertical-align: middle;\n",
              "    }\n",
              "\n",
              "    .dataframe tbody tr th {\n",
              "        vertical-align: top;\n",
              "    }\n",
              "\n",
              "    .dataframe thead th {\n",
              "        text-align: right;\n",
              "    }\n",
              "</style>\n",
              "<table border=\"1\" class=\"dataframe\">\n",
              "  <thead>\n",
              "    <tr style=\"text-align: right;\">\n",
              "      <th></th>\n",
              "      <th>AnzahlZimmer</th>\n",
              "      <th>Ausbaustufe</th>\n",
              "      <th>Baeder</th>\n",
              "      <th>BaederUG</th>\n",
              "      <th>Baujahr</th>\n",
              "      <th>Bebauungsdichte</th>\n",
              "      <th>Doppelhaus</th>\n",
              "      <th>EG_qm</th>\n",
              "      <th>Fassadenqual</th>\n",
              "      <th>Fassadenzustand</th>\n",
              "      <th>...</th>\n",
              "      <th>Satteldach</th>\n",
              "      <th>Seelage</th>\n",
              "      <th>ToilettenEG</th>\n",
              "      <th>ToilettenUG</th>\n",
              "      <th>Umgebaut</th>\n",
              "      <th>Verkaufsjahr</th>\n",
              "      <th>Verkaufsmonat</th>\n",
              "      <th>Walmdach</th>\n",
              "      <th>Wohnflaeche_qm</th>\n",
              "      <th>Z_Verkaufspreis</th>\n",
              "    </tr>\n",
              "  </thead>\n",
              "  <tbody>\n",
              "    <tr>\n",
              "      <th>0</th>\n",
              "      <td>3</td>\n",
              "      <td>-1.0</td>\n",
              "      <td>1</td>\n",
              "      <td>1</td>\n",
              "      <td>1989</td>\n",
              "      <td>1</td>\n",
              "      <td>0</td>\n",
              "      <td>95</td>\n",
              "      <td>3</td>\n",
              "      <td>3</td>\n",
              "      <td>...</td>\n",
              "      <td>1</td>\n",
              "      <td>0</td>\n",
              "      <td>0</td>\n",
              "      <td>0</td>\n",
              "      <td>1989</td>\n",
              "      <td>2017</td>\n",
              "      <td>10</td>\n",
              "      <td>0</td>\n",
              "      <td>95</td>\n",
              "      <td>154772</td>\n",
              "    </tr>\n",
              "    <tr>\n",
              "      <th>1</th>\n",
              "      <td>3</td>\n",
              "      <td>1.0</td>\n",
              "      <td>2</td>\n",
              "      <td>1</td>\n",
              "      <td>2015</td>\n",
              "      <td>1</td>\n",
              "      <td>0</td>\n",
              "      <td>157</td>\n",
              "      <td>4</td>\n",
              "      <td>3</td>\n",
              "      <td>...</td>\n",
              "      <td>1</td>\n",
              "      <td>0</td>\n",
              "      <td>0</td>\n",
              "      <td>0</td>\n",
              "      <td>2016</td>\n",
              "      <td>2015</td>\n",
              "      <td>8</td>\n",
              "      <td>0</td>\n",
              "      <td>157</td>\n",
              "      <td>298846</td>\n",
              "    </tr>\n",
              "    <tr>\n",
              "      <th>2</th>\n",
              "      <td>3</td>\n",
              "      <td>1.5</td>\n",
              "      <td>1</td>\n",
              "      <td>0</td>\n",
              "      <td>1941</td>\n",
              "      <td>2</td>\n",
              "      <td>0</td>\n",
              "      <td>103</td>\n",
              "      <td>3</td>\n",
              "      <td>3</td>\n",
              "      <td>...</td>\n",
              "      <td>1</td>\n",
              "      <td>0</td>\n",
              "      <td>0</td>\n",
              "      <td>0</td>\n",
              "      <td>1961</td>\n",
              "      <td>2015</td>\n",
              "      <td>6</td>\n",
              "      <td>0</td>\n",
              "      <td>103</td>\n",
              "      <td>135697</td>\n",
              "    </tr>\n",
              "    <tr>\n",
              "      <th>3</th>\n",
              "      <td>1</td>\n",
              "      <td>-1.0</td>\n",
              "      <td>1</td>\n",
              "      <td>1</td>\n",
              "      <td>1983</td>\n",
              "      <td>2</td>\n",
              "      <td>0</td>\n",
              "      <td>58</td>\n",
              "      <td>3</td>\n",
              "      <td>3</td>\n",
              "      <td>...</td>\n",
              "      <td>1</td>\n",
              "      <td>0</td>\n",
              "      <td>0</td>\n",
              "      <td>0</td>\n",
              "      <td>1983</td>\n",
              "      <td>2021</td>\n",
              "      <td>5</td>\n",
              "      <td>0</td>\n",
              "      <td>58</td>\n",
              "      <td>92994</td>\n",
              "    </tr>\n",
              "    <tr>\n",
              "      <th>4</th>\n",
              "      <td>2</td>\n",
              "      <td>2.0</td>\n",
              "      <td>2</td>\n",
              "      <td>1</td>\n",
              "      <td>2016</td>\n",
              "      <td>-1</td>\n",
              "      <td>0</td>\n",
              "      <td>55</td>\n",
              "      <td>4</td>\n",
              "      <td>3</td>\n",
              "      <td>...</td>\n",
              "      <td>1</td>\n",
              "      <td>1</td>\n",
              "      <td>1</td>\n",
              "      <td>0</td>\n",
              "      <td>2016</td>\n",
              "      <td>2017</td>\n",
              "      <td>5</td>\n",
              "      <td>0</td>\n",
              "      <td>111</td>\n",
              "      <td>173723</td>\n",
              "    </tr>\n",
              "    <tr>\n",
              "      <th>...</th>\n",
              "      <td>...</td>\n",
              "      <td>...</td>\n",
              "      <td>...</td>\n",
              "      <td>...</td>\n",
              "      <td>...</td>\n",
              "      <td>...</td>\n",
              "      <td>...</td>\n",
              "      <td>...</td>\n",
              "      <td>...</td>\n",
              "      <td>...</td>\n",
              "      <td>...</td>\n",
              "      <td>...</td>\n",
              "      <td>...</td>\n",
              "      <td>...</td>\n",
              "      <td>...</td>\n",
              "      <td>...</td>\n",
              "      <td>...</td>\n",
              "      <td>...</td>\n",
              "      <td>...</td>\n",
              "      <td>...</td>\n",
              "      <td>...</td>\n",
              "    </tr>\n",
              "    <tr>\n",
              "      <th>2272</th>\n",
              "      <td>3</td>\n",
              "      <td>1.0</td>\n",
              "      <td>2</td>\n",
              "      <td>1</td>\n",
              "      <td>2017</td>\n",
              "      <td>-1</td>\n",
              "      <td>0</td>\n",
              "      <td>154</td>\n",
              "      <td>4</td>\n",
              "      <td>3</td>\n",
              "      <td>...</td>\n",
              "      <td>1</td>\n",
              "      <td>1</td>\n",
              "      <td>0</td>\n",
              "      <td>0</td>\n",
              "      <td>2018</td>\n",
              "      <td>2020</td>\n",
              "      <td>3</td>\n",
              "      <td>0</td>\n",
              "      <td>154</td>\n",
              "      <td>344642</td>\n",
              "    </tr>\n",
              "    <tr>\n",
              "      <th>2273</th>\n",
              "      <td>1</td>\n",
              "      <td>1.0</td>\n",
              "      <td>0</td>\n",
              "      <td>1</td>\n",
              "      <td>1933</td>\n",
              "      <td>1</td>\n",
              "      <td>0</td>\n",
              "      <td>84</td>\n",
              "      <td>2</td>\n",
              "      <td>2</td>\n",
              "      <td>...</td>\n",
              "      <td>1</td>\n",
              "      <td>0</td>\n",
              "      <td>1</td>\n",
              "      <td>0</td>\n",
              "      <td>1961</td>\n",
              "      <td>2019</td>\n",
              "      <td>3</td>\n",
              "      <td>0</td>\n",
              "      <td>84</td>\n",
              "      <td>69466</td>\n",
              "    </tr>\n",
              "    <tr>\n",
              "      <th>2274</th>\n",
              "      <td>4</td>\n",
              "      <td>2.0</td>\n",
              "      <td>2</td>\n",
              "      <td>0</td>\n",
              "      <td>1987</td>\n",
              "      <td>1</td>\n",
              "      <td>0</td>\n",
              "      <td>102</td>\n",
              "      <td>3</td>\n",
              "      <td>3</td>\n",
              "      <td>...</td>\n",
              "      <td>0</td>\n",
              "      <td>0</td>\n",
              "      <td>1</td>\n",
              "      <td>0</td>\n",
              "      <td>1987</td>\n",
              "      <td>2018</td>\n",
              "      <td>9</td>\n",
              "      <td>0</td>\n",
              "      <td>182</td>\n",
              "      <td>224472</td>\n",
              "    </tr>\n",
              "    <tr>\n",
              "      <th>2275</th>\n",
              "      <td>2</td>\n",
              "      <td>1.0</td>\n",
              "      <td>1</td>\n",
              "      <td>0</td>\n",
              "      <td>1963</td>\n",
              "      <td>1</td>\n",
              "      <td>0</td>\n",
              "      <td>85</td>\n",
              "      <td>3</td>\n",
              "      <td>3</td>\n",
              "      <td>...</td>\n",
              "      <td>1</td>\n",
              "      <td>0</td>\n",
              "      <td>0</td>\n",
              "      <td>0</td>\n",
              "      <td>1963</td>\n",
              "      <td>2015</td>\n",
              "      <td>6</td>\n",
              "      <td>0</td>\n",
              "      <td>85</td>\n",
              "      <td>109512</td>\n",
              "    </tr>\n",
              "    <tr>\n",
              "      <th>2276</th>\n",
              "      <td>4</td>\n",
              "      <td>2.0</td>\n",
              "      <td>2</td>\n",
              "      <td>0</td>\n",
              "      <td>2006</td>\n",
              "      <td>1</td>\n",
              "      <td>0</td>\n",
              "      <td>123</td>\n",
              "      <td>4</td>\n",
              "      <td>3</td>\n",
              "      <td>...</td>\n",
              "      <td>1</td>\n",
              "      <td>0</td>\n",
              "      <td>1</td>\n",
              "      <td>0</td>\n",
              "      <td>2006</td>\n",
              "      <td>2016</td>\n",
              "      <td>11</td>\n",
              "      <td>0</td>\n",
              "      <td>235</td>\n",
              "      <td>293589</td>\n",
              "    </tr>\n",
              "  </tbody>\n",
              "</table>\n",
              "<p>2277 rows × 35 columns</p>\n",
              "</div>\n",
              "      <button class=\"colab-df-convert\" onclick=\"convertToInteractive('df-5a30c3cd-4c46-4290-9b8d-8a77f6fcfe7e')\"\n",
              "              title=\"Convert this dataframe to an interactive table.\"\n",
              "              style=\"display:none;\">\n",
              "        \n",
              "  <svg xmlns=\"http://www.w3.org/2000/svg\" height=\"24px\"viewBox=\"0 0 24 24\"\n",
              "       width=\"24px\">\n",
              "    <path d=\"M0 0h24v24H0V0z\" fill=\"none\"/>\n",
              "    <path d=\"M18.56 5.44l.94 2.06.94-2.06 2.06-.94-2.06-.94-.94-2.06-.94 2.06-2.06.94zm-11 1L8.5 8.5l.94-2.06 2.06-.94-2.06-.94L8.5 2.5l-.94 2.06-2.06.94zm10 10l.94 2.06.94-2.06 2.06-.94-2.06-.94-.94-2.06-.94 2.06-2.06.94z\"/><path d=\"M17.41 7.96l-1.37-1.37c-.4-.4-.92-.59-1.43-.59-.52 0-1.04.2-1.43.59L10.3 9.45l-7.72 7.72c-.78.78-.78 2.05 0 2.83L4 21.41c.39.39.9.59 1.41.59.51 0 1.02-.2 1.41-.59l7.78-7.78 2.81-2.81c.8-.78.8-2.07 0-2.86zM5.41 20L4 18.59l7.72-7.72 1.47 1.35L5.41 20z\"/>\n",
              "  </svg>\n",
              "      </button>\n",
              "      \n",
              "  <style>\n",
              "    .colab-df-container {\n",
              "      display:flex;\n",
              "      flex-wrap:wrap;\n",
              "      gap: 12px;\n",
              "    }\n",
              "\n",
              "    .colab-df-convert {\n",
              "      background-color: #E8F0FE;\n",
              "      border: none;\n",
              "      border-radius: 50%;\n",
              "      cursor: pointer;\n",
              "      display: none;\n",
              "      fill: #1967D2;\n",
              "      height: 32px;\n",
              "      padding: 0 0 0 0;\n",
              "      width: 32px;\n",
              "    }\n",
              "\n",
              "    .colab-df-convert:hover {\n",
              "      background-color: #E2EBFA;\n",
              "      box-shadow: 0px 1px 2px rgba(60, 64, 67, 0.3), 0px 1px 3px 1px rgba(60, 64, 67, 0.15);\n",
              "      fill: #174EA6;\n",
              "    }\n",
              "\n",
              "    [theme=dark] .colab-df-convert {\n",
              "      background-color: #3B4455;\n",
              "      fill: #D2E3FC;\n",
              "    }\n",
              "\n",
              "    [theme=dark] .colab-df-convert:hover {\n",
              "      background-color: #434B5C;\n",
              "      box-shadow: 0px 1px 3px 1px rgba(0, 0, 0, 0.15);\n",
              "      filter: drop-shadow(0px 1px 2px rgba(0, 0, 0, 0.3));\n",
              "      fill: #FFFFFF;\n",
              "    }\n",
              "  </style>\n",
              "\n",
              "      <script>\n",
              "        const buttonEl =\n",
              "          document.querySelector('#df-5a30c3cd-4c46-4290-9b8d-8a77f6fcfe7e button.colab-df-convert');\n",
              "        buttonEl.style.display =\n",
              "          google.colab.kernel.accessAllowed ? 'block' : 'none';\n",
              "\n",
              "        async function convertToInteractive(key) {\n",
              "          const element = document.querySelector('#df-5a30c3cd-4c46-4290-9b8d-8a77f6fcfe7e');\n",
              "          const dataTable =\n",
              "            await google.colab.kernel.invokeFunction('convertToInteractive',\n",
              "                                                     [key], {});\n",
              "          if (!dataTable) return;\n",
              "\n",
              "          const docLinkHtml = 'Like what you see? Visit the ' +\n",
              "            '<a target=\"_blank\" href=https://colab.research.google.com/notebooks/data_table.ipynb>data table notebook</a>'\n",
              "            + ' to learn more about interactive tables.';\n",
              "          element.innerHTML = '';\n",
              "          dataTable['output_type'] = 'display_data';\n",
              "          await google.colab.output.renderOutput(dataTable, element);\n",
              "          const docLink = document.createElement('div');\n",
              "          docLink.innerHTML = docLinkHtml;\n",
              "          element.appendChild(docLink);\n",
              "        }\n",
              "      </script>\n",
              "    </div>\n",
              "  </div>\n",
              "  "
            ]
          },
          "metadata": {},
          "execution_count": 33
        }
      ]
    },
    {
      "cell_type": "markdown",
      "source": [
        "### Feature Definition"
      ],
      "metadata": {
        "id": "hZiN4gtK1zA7"
      }
    },
    {
      "cell_type": "code",
      "source": [
        "result = \"Z_Verkaufspreis\"\n",
        "features = list(df.columns)\n",
        "features.remove(result)"
      ],
      "metadata": {
        "id": "P_s6jbAp2Pzz"
      },
      "execution_count": null,
      "outputs": []
    },
    {
      "cell_type": "code",
      "source": [
        "features"
      ],
      "metadata": {
        "id": "1y4ZRzF5-MiR",
        "colab": {
          "base_uri": "https://localhost:8080/"
        },
        "outputId": "d4769ae4-ce81-43d6-cfaf-504de8d4632f"
      },
      "execution_count": null,
      "outputs": [
        {
          "output_type": "execute_result",
          "data": {
            "text/plain": [
              "['AnzahlZimmer',\n",
              " 'Ausbaustufe',\n",
              " 'Baeder',\n",
              " 'BaederUG',\n",
              " 'Baujahr',\n",
              " 'Bebauungsdichte',\n",
              " 'Doppelhaus',\n",
              " 'EG_qm',\n",
              " 'Fassadenqual',\n",
              " 'Fassadenzustand',\n",
              " 'Flachdach',\n",
              " 'Freistehend',\n",
              " 'Garagen',\n",
              " 'Gesamteindruck',\n",
              " 'Grundstueck_qm',\n",
              " 'Kamine',\n",
              " 'KellerQual',\n",
              " 'Keller_qm',\n",
              " 'Kellerhoehe',\n",
              " 'Lage_lat',\n",
              " 'Lage_lon',\n",
              " 'Mansarddach',\n",
              " 'Neuverkauf',\n",
              " 'Pultdach',\n",
              " 'Reihenhaus',\n",
              " 'Satteldach',\n",
              " 'Seelage',\n",
              " 'ToilettenEG',\n",
              " 'ToilettenUG',\n",
              " 'Umgebaut',\n",
              " 'Verkaufsjahr',\n",
              " 'Verkaufsmonat',\n",
              " 'Walmdach',\n",
              " 'Wohnflaeche_qm']"
            ]
          },
          "metadata": {},
          "execution_count": 35
        }
      ]
    },
    {
      "cell_type": "code",
      "source": [
        "X = df[features]\n",
        "y = df[result]"
      ],
      "metadata": {
        "id": "P7M2qffF_J8L"
      },
      "execution_count": null,
      "outputs": []
    },
    {
      "cell_type": "markdown",
      "source": [
        "### Split into Train and Test Set"
      ],
      "metadata": {
        "id": "hCEss8md2g3W"
      }
    },
    {
      "cell_type": "code",
      "source": [
        "X_train, X_test, y_train, y_test = train_test_split(X, y, test_size=0.1, random_state=0)"
      ],
      "metadata": {
        "id": "L3GVo6MH_MwO"
      },
      "execution_count": null,
      "outputs": []
    },
    {
      "cell_type": "markdown",
      "source": [
        "## Define and Train the Model"
      ],
      "metadata": {
        "id": "m8Zb1SY3C2Gd"
      }
    },
    {
      "cell_type": "code",
      "source": [
        "model = LinearRegression()\n",
        "model.fit(X_train, y_train)"
      ],
      "metadata": {
        "id": "KvSKT8CV2lMu",
        "colab": {
          "base_uri": "https://localhost:8080/"
        },
        "outputId": "01b4db15-5dad-4462-8941-d293f9e99afb"
      },
      "execution_count": null,
      "outputs": [
        {
          "output_type": "execute_result",
          "data": {
            "text/plain": [
              "LinearRegression()"
            ]
          },
          "metadata": {},
          "execution_count": 38
        }
      ]
    },
    {
      "cell_type": "markdown",
      "source": [
        "## Test the Model"
      ],
      "metadata": {
        "id": "5zf4yC7CC_7K"
      }
    },
    {
      "cell_type": "code",
      "source": [
        "score = model.score(X_test, y_test)"
      ],
      "metadata": {
        "id": "T3KFPEvoC_Ty"
      },
      "execution_count": null,
      "outputs": []
    },
    {
      "cell_type": "code",
      "source": [
        "print(f\"Overall model score: {round(score*100, 2)}%\")"
      ],
      "metadata": {
        "id": "HySMzAKxLsgs",
        "colab": {
          "base_uri": "https://localhost:8080/"
        },
        "outputId": "ef1c783c-daff-4523-fb10-5dfe9ba6d6dc"
      },
      "execution_count": null,
      "outputs": [
        {
          "output_type": "stream",
          "name": "stdout",
          "text": [
            "Overall model score: 84.04%\n"
          ]
        }
      ]
    },
    {
      "cell_type": "code",
      "source": [
        "y_pred = model.predict(X_test)"
      ],
      "metadata": {
        "id": "OWCRBFNhE2hZ"
      },
      "execution_count": null,
      "outputs": []
    },
    {
      "cell_type": "code",
      "source": [
        "mae = mean_absolute_error(y_test, y_pred)\n",
        "mape = mean_absolute_percentage_error(y_test, y_pred)"
      ],
      "metadata": {
        "id": "zv7drwJ3LdMT"
      },
      "execution_count": null,
      "outputs": []
    },
    {
      "cell_type": "code",
      "source": [
        "print(f\"Mean Absolute Error (MAE) for Linear Regression: +/-{round(mae, 2)}€\")\n",
        "print(f\"Mean Absolute Percentage Error (MAPE) for Linear Regression: +/-{round(mape*100, 2)}%\")"
      ],
      "metadata": {
        "id": "C2RJ7POvLp7W",
        "colab": {
          "base_uri": "https://localhost:8080/"
        },
        "outputId": "52b44690-9508-4ece-c335-5e8d997aecb0"
      },
      "execution_count": null,
      "outputs": [
        {
          "output_type": "stream",
          "name": "stdout",
          "text": [
            "Mean Absolute Error (MAE) for Linear Regression: +/-23653.52€\n",
            "Mean Absolute Percentage Error (MAPE) for Linear Regression: +/-13.69%\n"
          ]
        }
      ]
    },
    {
      "cell_type": "markdown",
      "source": [
        "## Field Testing"
      ],
      "metadata": {
        "id": "NMWIZZLPSnXJ"
      }
    },
    {
      "cell_type": "code",
      "source": [
        "my_building = {\n",
        "    'AnzahlZimmer': [4],\n",
        "    'Ausbaustufe': [3],\n",
        "    'Baeder': [1],\n",
        "    'BaederUG': [0],\n",
        "    'Baujahr': [1980],\n",
        "    'Bebauungsdichte': [2],\n",
        "    'Dachtyp': [\"Flachdach\"],\n",
        "    'EG_qm': [120],\n",
        "    'Fassadenqual': [4],\n",
        "    'Fassadenzustand': [3],\n",
        "    'Garagen': [1],\n",
        "    'Gesamteindruck': [5],\n",
        "    'Grundstueck_qm': [500],\n",
        "    'Kamine': [0],\n",
        "    'KellerQual': [3],\n",
        "    'Keller_qm': [50],\n",
        "    'Kellerhoehe': [3],\n",
        "    'Lage': [\"Bad Cannstatt Stuttgart\"],\n",
        "    'Neuverkauf': [0],\n",
        "    'Seelage': [1],\n",
        "    'ToilettenEG': [1],\n",
        "    'ToilettenUG': [1],\n",
        "    'Typ': [\"Freistehend\"],\n",
        "    'Umgebaut': [2020],\n",
        "    'Verkaufsjahr': [2022],\n",
        "    'Verkaufsmonat': [12],\n",
        "    'Wohnflaeche_qm': [200]\n",
        "}"
      ],
      "metadata": {
        "id": "lhKn72-RW46R"
      },
      "execution_count": null,
      "outputs": []
    },
    {
      "cell_type": "code",
      "source": [
        "my_X = pd.DataFrame(data=my_building)\n",
        "my_X"
      ],
      "metadata": {
        "id": "cW-KrPY5irYd",
        "colab": {
          "base_uri": "https://localhost:8080/",
          "height": 209
        },
        "outputId": "53f36366-8043-4e5d-ac0b-08809a472aa4"
      },
      "execution_count": null,
      "outputs": [
        {
          "output_type": "execute_result",
          "data": {
            "text/plain": [
              "   AnzahlZimmer  Ausbaustufe  Baeder  BaederUG  Baujahr  Bebauungsdichte  \\\n",
              "0             4            3       1         0     1980                2   \n",
              "\n",
              "     Dachtyp  EG_qm  Fassadenqual  Fassadenzustand  ...  \\\n",
              "0  Flachdach    120             4                3  ...   \n",
              "\n",
              "                      Lage  Neuverkauf  Seelage  ToilettenEG  ToilettenUG  \\\n",
              "0  Bad Cannstatt Stuttgart           0        1            1            1   \n",
              "\n",
              "           Typ  Umgebaut Verkaufsjahr  Verkaufsmonat  Wohnflaeche_qm  \n",
              "0  Freistehend      2020         2022             12             200  \n",
              "\n",
              "[1 rows x 27 columns]"
            ],
            "text/html": [
              "\n",
              "  <div id=\"df-a297e00c-0ea3-4290-a384-6fbcbadb7c0c\">\n",
              "    <div class=\"colab-df-container\">\n",
              "      <div>\n",
              "<style scoped>\n",
              "    .dataframe tbody tr th:only-of-type {\n",
              "        vertical-align: middle;\n",
              "    }\n",
              "\n",
              "    .dataframe tbody tr th {\n",
              "        vertical-align: top;\n",
              "    }\n",
              "\n",
              "    .dataframe thead th {\n",
              "        text-align: right;\n",
              "    }\n",
              "</style>\n",
              "<table border=\"1\" class=\"dataframe\">\n",
              "  <thead>\n",
              "    <tr style=\"text-align: right;\">\n",
              "      <th></th>\n",
              "      <th>AnzahlZimmer</th>\n",
              "      <th>Ausbaustufe</th>\n",
              "      <th>Baeder</th>\n",
              "      <th>BaederUG</th>\n",
              "      <th>Baujahr</th>\n",
              "      <th>Bebauungsdichte</th>\n",
              "      <th>Dachtyp</th>\n",
              "      <th>EG_qm</th>\n",
              "      <th>Fassadenqual</th>\n",
              "      <th>Fassadenzustand</th>\n",
              "      <th>...</th>\n",
              "      <th>Lage</th>\n",
              "      <th>Neuverkauf</th>\n",
              "      <th>Seelage</th>\n",
              "      <th>ToilettenEG</th>\n",
              "      <th>ToilettenUG</th>\n",
              "      <th>Typ</th>\n",
              "      <th>Umgebaut</th>\n",
              "      <th>Verkaufsjahr</th>\n",
              "      <th>Verkaufsmonat</th>\n",
              "      <th>Wohnflaeche_qm</th>\n",
              "    </tr>\n",
              "  </thead>\n",
              "  <tbody>\n",
              "    <tr>\n",
              "      <th>0</th>\n",
              "      <td>4</td>\n",
              "      <td>3</td>\n",
              "      <td>1</td>\n",
              "      <td>0</td>\n",
              "      <td>1980</td>\n",
              "      <td>2</td>\n",
              "      <td>Flachdach</td>\n",
              "      <td>120</td>\n",
              "      <td>4</td>\n",
              "      <td>3</td>\n",
              "      <td>...</td>\n",
              "      <td>Bad Cannstatt Stuttgart</td>\n",
              "      <td>0</td>\n",
              "      <td>1</td>\n",
              "      <td>1</td>\n",
              "      <td>1</td>\n",
              "      <td>Freistehend</td>\n",
              "      <td>2020</td>\n",
              "      <td>2022</td>\n",
              "      <td>12</td>\n",
              "      <td>200</td>\n",
              "    </tr>\n",
              "  </tbody>\n",
              "</table>\n",
              "<p>1 rows × 27 columns</p>\n",
              "</div>\n",
              "      <button class=\"colab-df-convert\" onclick=\"convertToInteractive('df-a297e00c-0ea3-4290-a384-6fbcbadb7c0c')\"\n",
              "              title=\"Convert this dataframe to an interactive table.\"\n",
              "              style=\"display:none;\">\n",
              "        \n",
              "  <svg xmlns=\"http://www.w3.org/2000/svg\" height=\"24px\"viewBox=\"0 0 24 24\"\n",
              "       width=\"24px\">\n",
              "    <path d=\"M0 0h24v24H0V0z\" fill=\"none\"/>\n",
              "    <path d=\"M18.56 5.44l.94 2.06.94-2.06 2.06-.94-2.06-.94-.94-2.06-.94 2.06-2.06.94zm-11 1L8.5 8.5l.94-2.06 2.06-.94-2.06-.94L8.5 2.5l-.94 2.06-2.06.94zm10 10l.94 2.06.94-2.06 2.06-.94-2.06-.94-.94-2.06-.94 2.06-2.06.94z\"/><path d=\"M17.41 7.96l-1.37-1.37c-.4-.4-.92-.59-1.43-.59-.52 0-1.04.2-1.43.59L10.3 9.45l-7.72 7.72c-.78.78-.78 2.05 0 2.83L4 21.41c.39.39.9.59 1.41.59.51 0 1.02-.2 1.41-.59l7.78-7.78 2.81-2.81c.8-.78.8-2.07 0-2.86zM5.41 20L4 18.59l7.72-7.72 1.47 1.35L5.41 20z\"/>\n",
              "  </svg>\n",
              "      </button>\n",
              "      \n",
              "  <style>\n",
              "    .colab-df-container {\n",
              "      display:flex;\n",
              "      flex-wrap:wrap;\n",
              "      gap: 12px;\n",
              "    }\n",
              "\n",
              "    .colab-df-convert {\n",
              "      background-color: #E8F0FE;\n",
              "      border: none;\n",
              "      border-radius: 50%;\n",
              "      cursor: pointer;\n",
              "      display: none;\n",
              "      fill: #1967D2;\n",
              "      height: 32px;\n",
              "      padding: 0 0 0 0;\n",
              "      width: 32px;\n",
              "    }\n",
              "\n",
              "    .colab-df-convert:hover {\n",
              "      background-color: #E2EBFA;\n",
              "      box-shadow: 0px 1px 2px rgba(60, 64, 67, 0.3), 0px 1px 3px 1px rgba(60, 64, 67, 0.15);\n",
              "      fill: #174EA6;\n",
              "    }\n",
              "\n",
              "    [theme=dark] .colab-df-convert {\n",
              "      background-color: #3B4455;\n",
              "      fill: #D2E3FC;\n",
              "    }\n",
              "\n",
              "    [theme=dark] .colab-df-convert:hover {\n",
              "      background-color: #434B5C;\n",
              "      box-shadow: 0px 1px 3px 1px rgba(0, 0, 0, 0.15);\n",
              "      filter: drop-shadow(0px 1px 2px rgba(0, 0, 0, 0.3));\n",
              "      fill: #FFFFFF;\n",
              "    }\n",
              "  </style>\n",
              "\n",
              "      <script>\n",
              "        const buttonEl =\n",
              "          document.querySelector('#df-a297e00c-0ea3-4290-a384-6fbcbadb7c0c button.colab-df-convert');\n",
              "        buttonEl.style.display =\n",
              "          google.colab.kernel.accessAllowed ? 'block' : 'none';\n",
              "\n",
              "        async function convertToInteractive(key) {\n",
              "          const element = document.querySelector('#df-a297e00c-0ea3-4290-a384-6fbcbadb7c0c');\n",
              "          const dataTable =\n",
              "            await google.colab.kernel.invokeFunction('convertToInteractive',\n",
              "                                                     [key], {});\n",
              "          if (!dataTable) return;\n",
              "\n",
              "          const docLinkHtml = 'Like what you see? Visit the ' +\n",
              "            '<a target=\"_blank\" href=https://colab.research.google.com/notebooks/data_table.ipynb>data table notebook</a>'\n",
              "            + ' to learn more about interactive tables.';\n",
              "          element.innerHTML = '';\n",
              "          dataTable['output_type'] = 'display_data';\n",
              "          await google.colab.output.renderOutput(dataTable, element);\n",
              "          const docLink = document.createElement('div');\n",
              "          docLink.innerHTML = docLinkHtml;\n",
              "          element.appendChild(docLink);\n",
              "        }\n",
              "      </script>\n",
              "    </div>\n",
              "  </div>\n",
              "  "
            ]
          },
          "metadata": {},
          "execution_count": 45
        }
      ]
    },
    {
      "cell_type": "code",
      "source": [
        "print(list(df_dachtyp.columns))\n",
        "print(list(df_haustyp.columns))"
      ],
      "metadata": {
        "id": "b9YSeVIHvjl1",
        "colab": {
          "base_uri": "https://localhost:8080/"
        },
        "outputId": "7b42c6c1-aca6-49e6-8e77-e79f42702913"
      },
      "execution_count": null,
      "outputs": [
        {
          "output_type": "stream",
          "name": "stdout",
          "text": [
            "['Flachdach', 'Mansarddach', 'Pultdach', 'Satteldach', 'Walmdach']\n",
            "['Doppelhaus', 'Freistehend', 'Reihenhaus']\n"
          ]
        }
      ]
    },
    {
      "cell_type": "code",
      "source": [
        "def estimate_price(df):\n",
        "  # Dachtyp encoding\n",
        "  dachtyp = pd.get_dummies(df[\"Dachtyp\"])\n",
        "  for e in list(df_dachtyp.columns):\n",
        "    try:\n",
        "      df = df.join(dachtyp[e])\n",
        "    except:\n",
        "      df[e] = 0\n",
        "  df.drop([\"Dachtyp\"], axis=1, inplace=True)\n",
        "  # Haustyp encoding\n",
        "  haustyp = pd.get_dummies(df[\"Typ\"])\n",
        "  for e in list(df_haustyp.columns):\n",
        "    try:\n",
        "      df = df.join(haustyp[e])\n",
        "    except:\n",
        "      df[e] = 0\n",
        "  df.drop([\"Typ\"], axis=1, inplace=True)\n",
        "  # Lage encoding\n",
        "  df['Lage_lon'] = df['Lage'].apply(lambda x: encode_lage_to_coord(x, 'lon'))\n",
        "  df['Lage_lat'] = df['Lage'].apply(lambda x: encode_lage_to_coord(x, 'lat'))\n",
        "  df.drop(['Lage'], axis=1, inplace=True)\n",
        "\n",
        "  df = df.sort_index(axis=1)\n",
        "  pred = model.predict(df)\n",
        "  return pred[0]"
      ],
      "metadata": {
        "id": "-DxuDQ7PNAZx"
      },
      "execution_count": null,
      "outputs": []
    },
    {
      "cell_type": "code",
      "source": [
        "price = estimate_price(my_X)\n",
        "print(f\"Predicted price for my building: {round(price, 2)}€\")"
      ],
      "metadata": {
        "id": "TsQ34xVKzm0N",
        "colab": {
          "base_uri": "https://localhost:8080/"
        },
        "outputId": "2cc977f2-18d3-4150-9e3c-d0948011ac25"
      },
      "execution_count": null,
      "outputs": [
        {
          "output_type": "stream",
          "name": "stdout",
          "text": [
            "Predicted price for my building: 295978.64€\n"
          ]
        }
      ]
    }
  ]
}